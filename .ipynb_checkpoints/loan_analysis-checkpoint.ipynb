{
 "cells": [
  {
   "cell_type": "markdown",
   "id": "bb1296bd",
   "metadata": {},
   "source": [
    "# Loan Application Approval Prediction - Analysis Report\n",
    "\n",
    "This notebook contains a detailed analysis of the loan application dataset, including EDA and visualization."
   ]
  },
  {
   "cell_type": "code",
   "execution_count": null,
   "id": "06a98f62",
   "metadata": {},
   "outputs": [],
   "source": [
    "# Import required libraries\n",
    "import pandas as pd\n",
    "import numpy as np\n",
    "import matplotlib.pyplot as plt\n",
    "import seaborn as sns\n",
    "from sklearn.preprocessing import LabelEncoder\n",
    "from scipy import stats\n",
    "\n",
    "# Set style for better visualization\n",
    "plt.style.use('seaborn')\n",
    "sns.set_palette('husl')\n",
    "\n",
    "# Display all columns\n",
    "pd.set_option('display.max_columns', None)"
   ]
  },
  {
   "cell_type": "markdown",
   "id": "bca9fe0e",
   "metadata": {},
   "source": [
    "## 1. Data Loading and Initial Exploration"
   ]
  },
  {
   "cell_type": "code",
   "execution_count": null,
   "id": "0652285f",
   "metadata": {},
   "outputs": [],
   "source": [
    "# Read the dataset\n",
    "df = pd.read_csv('Loan Application Accept or Reject.csv')\n",
    "\n",
    "# Display top 5 rows\n",
    "print(\"Top 5 rows:\")\n",
    "display(df.head())\n",
    "\n",
    "print(\"\\nBottom 5 rows:\")\n",
    "display(df.tail())"
   ]
  },
  {
   "cell_type": "markdown",
   "id": "0d18c0c2",
   "metadata": {},
   "source": [
    "## 2. Rename Columns"
   ]
  },
  {
   "cell_type": "code",
   "execution_count": null,
   "id": "56cdf7c8",
   "metadata": {},
   "outputs": [],
   "source": [
    "# Rename columns to more meaningful names\n",
    "df.columns = ['loan_id', 'dependents', 'education', 'self_employed', 'annual_income', \n",
    "              'loan_amount', 'loan_term', 'cibil_score', 'residential_assets', \n",
    "              'commercial_assets', 'luxury_assets', 'bank_assets', 'loan_status']\n",
    "\n",
    "print(\"Updated column names:\")\n",
    "print(df.columns.tolist())"
   ]
  },
  {
   "cell_type": "markdown",
   "id": "d79f5577",
   "metadata": {},
   "source": [
    "## 3. Dataset Information"
   ]
  },
  {
   "cell_type": "code",
   "execution_count": null,
   "id": "6e1af5ba",
   "metadata": {},
   "outputs": [],
   "source": [
    "# Display dataset shape\n",
    "print(f\"Total number of rows: {df.shape[0]}\")\n",
    "print(f\"Total number of columns: {df.shape[1]}\\n\")\n",
    "\n",
    "# Display column information\n",
    "print(\"Column Information:\")\n",
    "display(df.info())"
   ]
  },
  {
   "cell_type": "markdown",
   "id": "809860de",
   "metadata": {},
   "source": [
    "## 4. Check for Null Values"
   ]
  },
  {
   "cell_type": "code",
   "execution_count": null,
   "id": "b75567fe",
   "metadata": {},
   "outputs": [],
   "source": [
    "# Display null values count\n",
    "print(\"Null values in each column:\")\n",
    "display(df.isnull().sum())\n",
    "\n",
    "# Visualize null values\n",
    "plt.figure(figsize=(12, 6))\n",
    "sns.heatmap(df.isnull(), yticklabels=False, cbar=True, cmap='viridis')\n",
    "plt.title('Null Values in Dataset')\n",
    "plt.show()"
   ]
  },
  {
   "cell_type": "markdown",
   "id": "47c3747e",
   "metadata": {},
   "source": [
    "## 5. Handle Missing Values"
   ]
  },
  {
   "cell_type": "code",
   "execution_count": null,
   "id": "0653272b",
   "metadata": {},
   "outputs": [],
   "source": [
    "# Handle missing values\n",
    "# Numerical columns - fill with median\n",
    "numerical_cols = ['annual_income', 'residential_assets', 'commercial_assets', 'luxury_assets', 'bank_assets']\n",
    "for col in numerical_cols:\n",
    "    df[col].fillna(df[col].median(), inplace=True)\n",
    "\n",
    "# Categorical columns - fill with mode\n",
    "categorical_cols = ['education', 'self_employed']\n",
    "for col in categorical_cols:\n",
    "    df[col].fillna(df[col].mode()[0], inplace=True)\n",
    "\n",
    "print(\"Null values after handling:\")\n",
    "display(df.isnull().sum())"
   ]
  },
  {
   "cell_type": "markdown",
   "id": "7f068606",
   "metadata": {},
   "source": [
    "## 6. Check and Remove Duplicates"
   ]
  },
  {
   "cell_type": "code",
   "execution_count": null,
   "id": "b5fdeac4",
   "metadata": {},
   "outputs": [],
   "source": [
    "# Check for duplicates\n",
    "print(f\"Number of duplicate rows: {df.duplicated().sum()}\")\n",
    "\n",
    "# Remove duplicates if any\n",
    "df.drop_duplicates(inplace=True)\n",
    "print(f\"Dataset shape after removing duplicates: {df.shape}\")"
   ]
  },
  {
   "cell_type": "markdown",
   "id": "b5369328",
   "metadata": {},
   "source": [
    "## 7. Encode Categorical Data"
   ]
  },
  {
   "cell_type": "code",
   "execution_count": null,
   "id": "d833d2ab",
   "metadata": {},
   "outputs": [],
   "source": [
    "# Encode categorical variables\n",
    "le = LabelEncoder()\n",
    "df['education'] = le.fit_transform(df['education'])\n",
    "df['self_employed'] = le.fit_transform(df['self_employed'])\n",
    "df['loan_status'] = le.fit_transform(df['loan_status'])\n",
    "\n",
    "print(\"Dataset after encoding:\")\n",
    "display(df.head())"
   ]
  },
  {
   "cell_type": "markdown",
   "id": "9328657b",
   "metadata": {},
   "source": [
    "## 8. Handle Outliers"
   ]
  },
  {
   "cell_type": "code",
   "execution_count": null,
   "id": "f1ecffd1",
   "metadata": {},
   "outputs": [],
   "source": [
    "# Function to detect and handle outliers using IQR method\n",
    "def handle_outliers(df, column):\n",
    "    Q1 = df[column].quantile(0.25)\n",
    "    Q3 = df[column].quantile(0.75)\n",
    "    IQR = Q3 - Q1\n",
    "    lower_bound = Q1 - 1.5 * IQR\n",
    "    upper_bound = Q3 + 1.5 * IQR\n",
    "    df[column] = df[column].clip(lower=lower_bound, upper=upper_bound)\n",
    "    return df\n",
    "\n",
    "# Handle outliers for numerical columns\n",
    "numerical_cols = ['annual_income', 'loan_amount', 'loan_term', 'cibil_score',\n",
    "                 'residential_assets', 'commercial_assets', 'luxury_assets', 'bank_assets']\n",
    "\n",
    "for col in numerical_cols:\n",
    "    df = handle_outliers(df, col)\n",
    "\n",
    "# Visualize distributions after handling outliers\n",
    "plt.figure(figsize=(15, 10))\n",
    "for i, col in enumerate(numerical_cols, 1):\n",
    "    plt.subplot(2, 4, i)\n",
    "    sns.boxplot(y=df[col])\n",
    "    plt.title(col)\n",
    "plt.tight_layout()\n",
    "plt.show()"
   ]
  },
  {
   "cell_type": "markdown",
   "id": "8118337f",
   "metadata": {},
   "source": [
    "## 9. Data Normalization"
   ]
  },
  {
   "cell_type": "code",
   "execution_count": null,
   "id": "e8a1a65e",
   "metadata": {},
   "outputs": [],
   "source": [
    "# Normalize numerical columns\n",
    "from sklearn.preprocessing import MinMaxScaler\n",
    "\n",
    "scaler = MinMaxScaler()\n",
    "df[numerical_cols] = scaler.fit_transform(df[numerical_cols])\n",
    "\n",
    "print(\"Dataset after normalization:\")\n",
    "display(df.head())"
   ]
  },
  {
   "cell_type": "markdown",
   "id": "4dd15e52",
   "metadata": {},
   "source": [
    "## 10. Visualization Analysis"
   ]
  },
  {
   "cell_type": "code",
   "execution_count": null,
   "id": "5dc7c6c9",
   "metadata": {},
   "outputs": [],
   "source": [
    "# 1. Bar Plot - Loan Status Distribution\n",
    "plt.figure(figsize=(10, 6))\n",
    "sns.countplot(data=df, x='loan_status')\n",
    "plt.title('Distribution of Loan Status')\n",
    "plt.show()\n",
    "\n",
    "# 2. Histogram - Annual Income Distribution\n",
    "plt.figure(figsize=(10, 6))\n",
    "sns.histplot(data=df, x='annual_income', bins=30)\n",
    "plt.title('Distribution of Annual Income')\n",
    "plt.show()\n",
    "\n",
    "# 3. Box Plot - Loan Amount by Education\n",
    "plt.figure(figsize=(10, 6))\n",
    "sns.boxplot(data=df, x='education', y='loan_amount')\n",
    "plt.title('Loan Amount Distribution by Education')\n",
    "plt.show()\n",
    "\n",
    "# 4. Area Plot - Assets Distribution\n",
    "plt.figure(figsize=(12, 6))\n",
    "df[['residential_assets', 'commercial_assets', 'luxury_assets', 'bank_assets']].plot(kind='area', stacked=True)\n",
    "plt.title('Distribution of Different Types of Assets')\n",
    "plt.show()\n",
    "\n",
    "# 5. Scatter Plot - CIBIL Score vs Loan Amount\n",
    "plt.figure(figsize=(10, 6))\n",
    "sns.scatterplot(data=df, x='cibil_score', y='loan_amount', hue='loan_status')\n",
    "plt.title('CIBIL Score vs Loan Amount')\n",
    "plt.show()\n",
    "\n",
    "# 6. Hexbin Plot - Annual Income vs Loan Amount\n",
    "plt.figure(figsize=(10, 6))\n",
    "plt.hexbin(df['annual_income'], df['loan_amount'], gridsize=20, cmap='YlOrRd')\n",
    "plt.colorbar(label='count')\n",
    "plt.xlabel('Annual Income')\n",
    "plt.ylabel('Loan Amount')\n",
    "plt.title('Hexbin Plot: Annual Income vs Loan Amount')\n",
    "plt.show()\n",
    "\n",
    "# 7. Pie Plot - Education Distribution\n",
    "plt.figure(figsize=(8, 8))\n",
    "df['education'].value_counts().plot(kind='pie', autopct='%1.1f%%')\n",
    "plt.title('Distribution of Education Levels')\n",
    "plt.show()\n",
    "\n",
    "# 8. Heatmap - Correlation Matrix\n",
    "plt.figure(figsize=(12, 8))\n",
    "sns.heatmap(df.corr(), annot=True, cmap='coolwarm', center=0)\n",
    "plt.title('Correlation Heatmap')\n",
    "plt.show()"
   ]
  },
  {
   "cell_type": "markdown",
   "id": "fea1063e",
   "metadata": {},
   "source": [
    "## Analysis Insights\n",
    "\n",
    "1. **Data Quality**:\n",
    "   - The dataset contains information about loan applications with various features\n",
    "   - Some missing values were present and handled appropriately\n",
    "   - No significant duplicate entries were found\n",
    "\n",
    "2. **Loan Approval Patterns**:\n",
    "   - There's a relationship between CIBIL score and loan approval\n",
    "   - Education level appears to influence loan amounts\n",
    "   - Asset distribution varies significantly among applicants\n",
    "\n",
    "3. **Financial Indicators**:\n",
    "   - Annual income shows a wide range of distribution\n",
    "   - Different types of assets contribute differently to loan approval\n",
    "   - Correlation exists between income and loan amount\n",
    "\n",
    "4. **Risk Factors**:\n",
    "   - CIBIL score is a crucial factor in loan approval\n",
    "   - Employment status and education level impact loan decisions\n",
    "   - Asset backing provides security for loan approval\n",
    "\n",
    "This analysis provides valuable insights for understanding loan approval patterns and risk assessment factors."
   ]
  }
 ],
 "metadata": {
  "language_info": {
   "name": "python"
  }
 },
 "nbformat": 4,
 "nbformat_minor": 5
}
